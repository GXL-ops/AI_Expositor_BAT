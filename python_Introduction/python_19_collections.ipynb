{
 "cells": [
  {
   "cell_type": "code",
   "execution_count": 3,
   "metadata": {
    "collapsed": true,
    "pycharm": {
     "is_executing": false
    }
   },
   "outputs": [],
   "source": [
    "# collections模块，内建的一个集合模块，提供有用的集合类\n",
    "# namedtuple、isinstance、defaultdict、counter"
   ]
  },
  {
   "cell_type": "code",
   "execution_count": 5,
   "outputs": [
    {
     "name": "stdout",
     "text": [
      "1\n4\n"
     ],
     "output_type": "stream"
    }
   ],
   "source": [
    "# namedtuple，用来定义数据类型,产生tuple的一个子类，不可更改\n",
    "import collections\n",
    "\n",
    "Point = collections.namedtuple('Point', ['x', 'y'])\n",
    "p = Point(1, 2)\n",
    "print(p.x)\n",
    "pp = Point(x=3, y=4)\n",
    "print(pp.y)"
   ],
   "metadata": {
    "collapsed": false,
    "pycharm": {
     "name": "#%%\n",
     "is_executing": false
    }
   }
  },
  {
   "cell_type": "code",
   "execution_count": 7,
   "outputs": [
    {
     "name": "stdout",
     "text": [
      "True\nTrue\n"
     ],
     "output_type": "stream"
    }
   ],
   "source": [
    "# isinstance判断一个实例是不是某种类型\n",
    "print(isinstance(p, Point))\n",
    "print(isinstance(p, tuple))"
   ],
   "metadata": {
    "collapsed": false,
    "pycharm": {
     "name": "#%%\n",
     "is_executing": false
    }
   }
  },
  {
   "cell_type": "code",
   "execution_count": 8,
   "outputs": [
    {
     "name": "stdout",
     "text": [
      "abc\nN/A\n"
     ],
     "output_type": "stream"
    }
   ],
   "source": [
    "# defaultdict：使用dict时，如果引用的key不存在，会报KeyError错。\n",
    "# 如果希望key不存在的时候，返回一个默认值，可以使用defaultdict。\n",
    "# defaultdict的行为与dict完全一致\n",
    "dd = collections.defaultdict(lambda : 'N/A')\n",
    "dd['key1'] = 'abc'\n",
    "print(dd['key1'])\n",
    "print(dd['key2'])"
   ],
   "metadata": {
    "collapsed": false,
    "pycharm": {
     "name": "#%%\n",
     "is_executing": false
    }
   }
  },
  {
   "cell_type": "code",
   "execution_count": 9,
   "outputs": [
    {
     "name": "stdout",
     "text": [
      "{'a': 1, 'b': 1, 'c': 1}\n"
     ],
     "output_type": "stream"
    }
   ],
   "source": [
    "# 统计词频\n",
    "cnt = {}\n",
    "for char in ['a', 'b', 'c']:\n",
    "    # 需要判断字典是否为null,不初始化报错\n",
    "    if char not in cnt:\n",
    "        cnt[char] = 0\n",
    "    cnt[char] += 1\n",
    "    \n",
    "print(cnt)"
   ],
   "metadata": {
    "collapsed": false,
    "pycharm": {
     "name": "#%%\n",
     "is_executing": false
    }
   }
  },
  {
   "cell_type": "code",
   "execution_count": 10,
   "outputs": [
    {
     "name": "stdout",
     "text": [
      "defaultdict(<class 'int'>, {'a': 1, 'b': 1, 'c': 1})\n"
     ],
     "output_type": "stream"
    }
   ],
   "source": [
    "# 使用defaultdict统计词频\n",
    "cnt = collections.defaultdict(int)\n",
    "for char in ['a', 'b', 'c']:\n",
    "    cnt[char] += 1\n",
    "    \n",
    "print(cnt)"
   ],
   "metadata": {
    "collapsed": false,
    "pycharm": {
     "name": "#%%\n",
     "is_executing": false
    }
   }
  },
  {
   "cell_type": "code",
   "execution_count": 11,
   "outputs": [
    {
     "name": "stdout",
     "text": [
      "Counter({'a': 2, 's': 2, 'd': 2, 'f': 1, 'g': 1, 'h': 1, ' ': 1})\n"
     ],
     "output_type": "stream"
    }
   ],
   "source": [
    "# counter，简单的计数器，统计字符串出现的个数，可以统计列表和字符串\n",
    "c = collections.Counter('asdasdfgh ')\n",
    "print(c)"
   ],
   "metadata": {
    "collapsed": false,
    "pycharm": {
     "name": "#%%\n",
     "is_executing": false
    }
   }
  },
  {
   "cell_type": "code",
   "execution_count": null,
   "outputs": [],
   "source": [
    "\n"
   ],
   "metadata": {
    "collapsed": false,
    "pycharm": {
     "name": "#%%\n"
    }
   }
  }
 ],
 "metadata": {
  "language_info": {
   "codemirror_mode": {
    "name": "ipython",
    "version": 2
   },
   "file_extension": ".py",
   "mimetype": "text/x-python",
   "name": "python",
   "nbconvert_exporter": "python",
   "pygments_lexer": "ipython2",
   "version": "2.7.6"
  },
  "kernelspec": {
   "name": "python3",
   "language": "python",
   "display_name": "Python 3"
  },
  "pycharm": {
   "stem_cell": {
    "cell_type": "raw",
    "source": [],
    "metadata": {
     "collapsed": false
    }
   }
  }
 },
 "nbformat": 4,
 "nbformat_minor": 0
}