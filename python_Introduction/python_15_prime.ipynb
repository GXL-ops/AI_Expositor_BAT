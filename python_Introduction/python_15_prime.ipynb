{
 "cells": [
  {
   "cell_type": "code",
   "execution_count": 1,
   "metadata": {
    "collapsed": true,
    "pycharm": {
     "is_executing": false
    }
   },
   "outputs": [],
   "source": [
    "# 实战之打印100000以内的素数\n",
    "def prime_naive_algo(number):\n",
    "    prime_num = list()\n",
    "    for num in range(2, number + 1):\n",
    "        is_prime = True\n",
    "        for i in range(2, num):\n",
    "            if num % i == 0:\n",
    "                is_prime = False\n",
    "                break\n",
    "            \n",
    "        if is_prime:\n",
    "            prime_num.append(num)\n",
    "    return prime_num"
   ]
  },
  {
   "cell_type": "code",
   "execution_count": 2,
   "outputs": [
    {
     "name": "stdout",
     "text": [
      "计算耗时：",
      "118.541117\n"
     ],
     "output_type": "stream"
    }
   ],
   "source": [
    "import datetime\n",
    "\n",
    "number = 100000\n",
    "print(\"计算耗时：\", end=\":\")\n",
    "start = datetime.datetime.now()\n",
    "prime_naive_algo(number)\n",
    "print((datetime.datetime.now() - start).total_seconds())"
   ],
   "metadata": {
    "collapsed": false,
    "pycharm": {
     "name": "#%%\n",
     "is_executing": false
    }
   }
  },
  {
   "cell_type": "code",
   "execution_count": 3,
   "outputs": [],
   "source": [
    "def prime_better_algo(number):\n",
    "    prime_num = list()\n",
    "    for num in range(2, number + 1):\n",
    "        is_prime = True\n",
    "        for i in range(2, num):\n",
    "            if i * i > num:\n",
    "                break\n",
    "            if num % i == 0:\n",
    "                is_prime = False\n",
    "                break\n",
    "        \n",
    "        if is_prime:\n",
    "            prime_num.append(num)\n",
    "    return  prime_num"
   ],
   "metadata": {
    "collapsed": false,
    "pycharm": {
     "name": "#%%\n",
     "is_executing": false
    }
   }
  },
  {
   "cell_type": "code",
   "execution_count": 4,
   "outputs": [
    {
     "name": "stdout",
     "text": [
      "计算耗时：:",
      "1.545002\n"
     ],
     "output_type": "stream"
    }
   ],
   "source": [
    "print(\"计算耗时：\", end=\":\")\n",
    "start = datetime.datetime.now()\n",
    "prime_better_algo(number)\n",
    "print((datetime.datetime.now() - start).total_seconds())"
   ],
   "metadata": {
    "collapsed": false,
    "pycharm": {
     "name": "#%%\n",
     "is_executing": false
    }
   }
  },
  {
   "cell_type": "code",
   "execution_count": null,
   "outputs": [],
   "source": [
    "\n"
   ],
   "metadata": {
    "collapsed": false,
    "pycharm": {
     "name": "#%%\n"
    }
   }
  }
 ],
 "metadata": {
  "language_info": {
   "codemirror_mode": {
    "name": "ipython",
    "version": 2
   },
   "file_extension": ".py",
   "mimetype": "text/x-python",
   "name": "python",
   "nbconvert_exporter": "python",
   "pygments_lexer": "ipython2",
   "version": "2.7.6"
  },
  "kernelspec": {
   "name": "python3",
   "language": "python",
   "display_name": "Python 3"
  },
  "pycharm": {
   "stem_cell": {
    "cell_type": "raw",
    "source": [],
    "metadata": {
     "collapsed": false
    }
   }
  }
 },
 "nbformat": 4,
 "nbformat_minor": 0
}