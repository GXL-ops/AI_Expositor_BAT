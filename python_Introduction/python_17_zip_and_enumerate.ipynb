{
 "cells": [
  {
   "cell_type": "code",
   "execution_count": 5,
   "outputs": [
    {
     "name": "stdout",
     "text": [
      "<class 'zip'>\n<zip object at 0x0000028D6573EBC8>\n[(1, 'a'), (2, 'b'), (3, 'c'), (4, 'd'), (5, 'e'), (6, 'f')]\n"
     ],
     "output_type": "stream"
    }
   ],
   "source": [
    "# zip(*iterables)\n",
    "# 接受可迭代对象为参数，将对象中的参数打包成一个个tuple,然后由tuple组成列表(list)返回\n",
    "a = [1,2,3,4,5,6]\n",
    "b = ['a','b','c','d','e','f']\n",
    "c = zip(a, b)\n",
    "print(type(c))\n",
    "print(c)\n",
    "print(list(c))"
   ],
   "metadata": {
    "collapsed": false,
    "pycharm": {
     "name": "#%%\n",
     "is_executing": false
    }
   }
  },
  {
   "cell_type": "code",
   "execution_count": 6,
   "outputs": [
    {
     "name": "stdout",
     "text": [
      "0 1\n1 2\n2 3\n3 4\n4 5\n5 6\n6 hello word\n"
     ],
     "output_type": "stream"
    }
   ],
   "source": [
    "# enumerate(iterable, start=0)\n",
    "# 可同时返回可迭代对象的下标和内容,返回的同样是一个可以迭代的对象\n",
    "seq = [1,2,3,4,5,6,\"hello word\"]\n",
    "i = 0\n",
    "for i, element in enumerate(seq):\n",
    "    print(i, element)"
   ],
   "metadata": {
    "collapsed": false,
    "pycharm": {
     "name": "#%%\n",
     "is_executing": false
    }
   }
  },
  {
   "cell_type": "code",
   "execution_count": 7,
   "outputs": [
    {
     "name": "stdout",
     "text": [
      "<class 'enumerate'>\n<enumerate object at 0x0000028D65B3A708>\n[(0, 1), (1, 2), (2, 3), (3, 4), (4, 5), (5, 6), (6, 'hello word')]\n"
     ],
     "output_type": "stream"
    }
   ],
   "source": [
    "print(type(enumerate(seq)))\n",
    "print(enumerate(seq))\n",
    "print(list(enumerate(seq)))"
   ],
   "metadata": {
    "collapsed": false,
    "pycharm": {
     "name": "#%%\n",
     "is_executing": false
    }
   }
  },
  {
   "cell_type": "code",
   "execution_count": null,
   "outputs": [],
   "source": [
    "\n"
   ],
   "metadata": {
    "collapsed": false,
    "pycharm": {
     "name": "#%%\n"
    }
   }
  }
 ],
 "metadata": {
  "language_info": {
   "codemirror_mode": {
    "name": "ipython",
    "version": 2
   },
   "file_extension": ".py",
   "mimetype": "text/x-python",
   "name": "python",
   "nbconvert_exporter": "python",
   "pygments_lexer": "ipython2",
   "version": "2.7.6"
  },
  "kernelspec": {
   "name": "python3",
   "language": "python",
   "display_name": "Python 3"
  },
  "pycharm": {
   "stem_cell": {
    "cell_type": "raw",
    "source": [],
    "metadata": {
     "collapsed": false
    }
   }
  }
 },
 "nbformat": 4,
 "nbformat_minor": 0
}