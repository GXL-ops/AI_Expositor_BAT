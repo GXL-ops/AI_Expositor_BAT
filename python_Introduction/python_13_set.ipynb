{
 "cells": [
  {
   "cell_type": "code",
   "execution_count": 14,
   "metadata": {
    "collapsed": true,
    "pycharm": {
     "is_executing": false
    }
   },
   "outputs": [
    {
     "name": "stdout",
     "text": [
      "<class 'set'> {1, 2, 3, 4}\n<class 'set'> {1, 2, 3, 4, 5, 6}\n"
     ],
     "output_type": "stream"
    }
   ],
   "source": [
    "seta = set([1, 1, 2, 2, 3, 1, 4])\n",
    "setb = set([1, 2, 3, 4, 5, 6])\n",
    "# 自动去除重复性元素\n",
    "print(type(seta), seta)\n",
    "print(type(setb), setb)"
   ]
  },
  {
   "cell_type": "code",
   "execution_count": 8,
   "outputs": [
    {
     "data": {
      "text/plain": "{1, 2, 3, 4, 7}"
     },
     "metadata": {},
     "output_type": "execute_result",
     "execution_count": 8
    }
   ],
   "source": [
    "# 常用操作\n",
    "# 增加元素\n",
    "seta.add(7)\n",
    "seta"
   ],
   "metadata": {
    "collapsed": false,
    "pycharm": {
     "name": "#%%\n",
     "is_executing": false
    }
   }
  },
  {
   "cell_type": "code",
   "execution_count": 9,
   "outputs": [
    {
     "name": "stdout",
     "text": [
      "{1, 2, 3, 4, 6, 7, 8, 9, 10, 11}\n"
     ],
     "output_type": "stream"
    }
   ],
   "source": [
    "# 合并所有\n",
    "seta.update([2, 4, 6, 8, 10], seta, {9, 10, 11})\n",
    "print(seta)"
   ],
   "metadata": {
    "collapsed": false,
    "pycharm": {
     "name": "#%%\n",
     "is_executing": false
    }
   }
  },
  {
   "cell_type": "code",
   "execution_count": 10,
   "outputs": [
    {
     "name": "stdout",
     "text": [
      "{2, 3, 4, 6, 7, 8, 9, 10, 11}\n"
     ],
     "output_type": "stream"
    }
   ],
   "source": [
    "# 删除元素，如果没有，报错\n",
    "seta.remove(1)\n",
    "print(seta)"
   ],
   "metadata": {
    "collapsed": false,
    "pycharm": {
     "name": "#%%\n",
     "is_executing": false
    }
   }
  },
  {
   "cell_type": "code",
   "execution_count": 11,
   "outputs": [],
   "source": [
    "# 删除元素，如果没有，不报错\n",
    "seta.discard(2)\n",
    "print(seta)"
   ],
   "metadata": {
    "collapsed": false,
    "pycharm": {
     "name": "#%%\n",
     "is_executing": false
    }
   }
  },
  {
   "cell_type": "code",
   "execution_count": 12,
   "outputs": [
    {
     "name": "stdout",
     "text": [
      "{4, 6, 7, 8, 9, 10, 11}\n"
     ],
     "output_type": "stream"
    }
   ],
   "source": [
    "# 随机删除元素\n",
    "seta.pop()\n",
    "print(seta)"
   ],
   "metadata": {
    "collapsed": false,
    "pycharm": {
     "name": "#%%\n",
     "is_executing": false
    }
   }
  },
  {
   "cell_type": "code",
   "execution_count": 13,
   "outputs": [
    {
     "name": "stdout",
     "text": [
      "set()\n"
     ],
     "output_type": "stream"
    }
   ],
   "source": [
    "# 清空集合\n",
    "seta.clear()\n",
    "print(seta)"
   ],
   "metadata": {
    "collapsed": false,
    "pycharm": {
     "name": "#%%\n",
     "is_executing": false
    }
   }
  },
  {
   "cell_type": "code",
   "execution_count": 15,
   "outputs": [
    {
     "name": "stdout",
     "text": [
      "set()\nset()\n{1, 2, 3, 4, 5, 6}\n{1, 2, 3, 4, 5, 6}\n{1, 2, 3, 4}\n{1, 2, 3, 4}\n"
     ],
     "output_type": "stream"
    }
   ],
   "source": [
    "# 差集\n",
    "print(seta - setb)\n",
    "print(seta.difference(setb))\n",
    "# 并集\n",
    "print(seta | setb)\n",
    "print(seta.union(setb))\n",
    "# 交集\n",
    "print(seta & setb)\n",
    "print(seta.intersection(setb))"
   ],
   "metadata": {
    "collapsed": false,
    "pycharm": {
     "name": "#%%\n",
     "is_executing": false
    }
   }
  },
  {
   "cell_type": "code",
   "execution_count": 17,
   "outputs": [
    {
     "name": "stdout",
     "text": [
      "True\nFalse\n"
     ],
     "output_type": "stream"
    }
   ],
   "source": [
    "# 判断子集\n",
    "seta = {1, 2, 3, 4}\n",
    "setb = {2, 3}\n",
    "print(setb.issubset(seta))\n",
    "print(seta.issubset(setb))"
   ],
   "metadata": {
    "collapsed": false,
    "pycharm": {
     "name": "#%%\n",
     "is_executing": false
    }
   }
  },
  {
   "cell_type": "code",
   "execution_count": null,
   "outputs": [],
   "source": [
    "\n"
   ],
   "metadata": {
    "collapsed": false,
    "pycharm": {
     "name": "#%%\n"
    }
   }
  }
 ],
 "metadata": {
  "language_info": {
   "codemirror_mode": {
    "name": "ipython",
    "version": 2
   },
   "file_extension": ".py",
   "mimetype": "text/x-python",
   "name": "python",
   "nbconvert_exporter": "python",
   "pygments_lexer": "ipython2",
   "version": "2.7.6"
  },
  "kernelspec": {
   "name": "python3",
   "language": "python",
   "display_name": "Python 3"
  },
  "pycharm": {
   "stem_cell": {
    "cell_type": "raw",
    "source": [],
    "metadata": {
     "collapsed": false
    }
   }
  }
 },
 "nbformat": 4,
 "nbformat_minor": 0
}