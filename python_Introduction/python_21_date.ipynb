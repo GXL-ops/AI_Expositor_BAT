{
 "cells": [
  {
   "cell_type": "code",
   "execution_count": 1,
   "metadata": {
    "collapsed": true,
    "pycharm": {
     "is_executing": false
    }
   },
   "outputs": [],
   "source": [
    "# 时间模块\n",
    "# now、strptime、strftime、timedelta"
   ]
  },
  {
   "cell_type": "code",
   "execution_count": 7,
   "outputs": [
    {
     "name": "stdout",
     "text": [
      "2019-07-25 22:21:33.977647\n<class 'datetime.datetime'>\n1564064493.977647\n"
     ],
     "output_type": "stream"
    }
   ],
   "source": [
    "# datetime\n",
    "import datetime\n",
    "\n",
    "now = datetime.datetime.now()\n",
    "print(now)\n",
    "print(type(now))\n",
    "print(now.timestamp()) # 小数位毫秒数"
   ],
   "metadata": {
    "collapsed": false,
    "pycharm": {
     "name": "#%%\n",
     "is_executing": false
    }
   }
  },
  {
   "cell_type": "code",
   "execution_count": 5,
   "outputs": [
    {
     "name": "stdout",
     "text": [
      "2019-07-25 22:19:10\n"
     ],
     "output_type": "stream"
    }
   ],
   "source": [
    "# str转换时间\n",
    "cday = datetime.datetime.strptime('2019-7-25 22:19:10', '%Y-%m-%d %H:%M:%S')\n",
    "print(cday)"
   ],
   "metadata": {
    "collapsed": false,
    "pycharm": {
     "name": "#%%\n",
     "is_executing": false
    }
   }
  },
  {
   "cell_type": "code",
   "execution_count": 13,
   "outputs": [
    {
     "name": "stdout",
     "text": [
      "2019/07/25 22:22:31\n"
     ],
     "output_type": "stream"
    }
   ],
   "source": [
    "# 时间转换str\n",
    "print(now.strftime('%Y/%m/%d %H:%M:%S'))"
   ],
   "metadata": {
    "collapsed": false,
    "pycharm": {
     "name": "#%%\n",
     "is_executing": false
    }
   }
  },
  {
   "cell_type": "code",
   "execution_count": 15,
   "outputs": [
    {
     "name": "stdout",
     "text": [
      "2019-07-26 08:22:31.266275\n2019-07-24 22:22:31.266275\n2019-07-28 08:22:31.266275\n"
     ],
     "output_type": "stream"
    }
   ],
   "source": [
    "# timedelta：时间上的加减\n",
    "print(now + datetime.timedelta(hours=10))\n",
    "print(now - datetime.timedelta(days=1))\n",
    "print(now + datetime.timedelta(days=2, hours=10))"
   ],
   "metadata": {
    "collapsed": false,
    "pycharm": {
     "name": "#%%\n",
     "is_executing": false
    }
   }
  },
  {
   "cell_type": "code",
   "execution_count": null,
   "outputs": [],
   "source": [
    "\n"
   ],
   "metadata": {
    "collapsed": false,
    "pycharm": {
     "name": "#%%\n"
    }
   }
  }
 ],
 "metadata": {
  "language_info": {
   "codemirror_mode": {
    "name": "ipython",
    "version": 2
   },
   "file_extension": ".py",
   "mimetype": "text/x-python",
   "name": "python",
   "nbconvert_exporter": "python",
   "pygments_lexer": "ipython2",
   "version": "2.7.6"
  },
  "kernelspec": {
   "name": "python3",
   "language": "python",
   "display_name": "Python 3"
  },
  "pycharm": {
   "stem_cell": {
    "cell_type": "raw",
    "source": [],
    "metadata": {
     "collapsed": false
    }
   }
  }
 },
 "nbformat": 4,
 "nbformat_minor": 0
}