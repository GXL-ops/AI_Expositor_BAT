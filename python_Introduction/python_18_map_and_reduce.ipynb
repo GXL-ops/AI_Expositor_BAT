{
 "cells": [
  {
   "cell_type": "code",
   "execution_count": 1,
   "metadata": {
    "collapsed": true,
    "pycharm": {
     "is_executing": false
    }
   },
   "outputs": [],
   "source": [
    "# map、reduce、lambda、filter\n",
    "# map:对list中的每一个元素都调用function函数进行处理，返回一个新的列表\n",
    "d = [1,2,3]\n",
    "def func(c):\n",
    "    return c * 100\n",
    "\n",
    "print(map(func, d))\n",
    "print(type(map(func, d)))\n",
    "print(list(map(func, d)))"
   ]
  },
  {
   "cell_type": "code",
   "execution_count": 6,
   "outputs": [
    {
     "name": "stdout",
     "text": [
      "<map object at 0x000001433CF1AE48>\n<class 'map'>\n[6, 14, 24]\n"
     ],
     "output_type": "stream"
    }
   ],
   "source": [
    "# map处理多个可迭代对象，如果传入迭代对象长度不一致，返回最短的长度\n",
    "d = [1,2,3,4,5]\n",
    "e = [6,7,8]\n",
    "def func(a, b):\n",
    "    return a * b\n",
    "print(map(func, d, e))\n",
    "print(type(map(func, d, e)))\n",
    "print(list(map(func, d, e)))"
   ],
   "metadata": {
    "collapsed": false,
    "pycharm": {
     "name": "#%%\n",
     "is_executing": false
    }
   }
  },
  {
   "cell_type": "code",
   "execution_count": 7,
   "outputs": [
    {
     "name": "stdout",
     "text": [
      "[6, 14, 24]\n"
     ],
     "output_type": "stream"
    }
   ],
   "source": [
    "# \n",
    "d = [1,2,3,4,5]\n",
    "e = [6,7,8]\n",
    "# lambda用于内置函数\n",
    "print(list(map(lambda a, b: a * b, d, e)))"
   ],
   "metadata": {
    "collapsed": false,
    "pycharm": {
     "name": "#%%\n",
     "is_executing": false
    }
   }
  },
  {
   "cell_type": "code",
   "execution_count": 9,
   "outputs": [
    {
     "name": "stdout",
     "text": [
      "x:1, y:2\nx:3, y:3\nx:6, y:4\nx:10, y:5\nx:15, y:6\nx:21, y:7\n28\nx:8, y:1\nx:9, y:2\nx:11, y:3\nx:14, y:4\nx:18, y:5\nx:23, y:6\nx:29, y:7\n36\n"
     ],
     "output_type": "stream"
    }
   ],
   "source": [
    "# reduce：functools.reduce(function, iterable, [initial_value])\n",
    "# function:有两个参数的函数\n",
    "# iterable：可迭代对象\n",
    "# initial_value：可选，初始参数\n",
    "import functools\n",
    "\n",
    "def add(x, y):\n",
    "    print(\"x:%d, y:%d\"%(x, y))\n",
    "    return x + y\n",
    "\n",
    "print(functools.reduce(add, [1,2,3,4,5,6,7]))\n",
    "print(functools.reduce(add, [1,2,3,4,5,6,7], 8))"
   ],
   "metadata": {
    "collapsed": false,
    "pycharm": {
     "name": "#%%\n",
     "is_executing": false
    }
   }
  },
  {
   "cell_type": "code",
   "execution_count": 10,
   "outputs": [
    {
     "name": "stdout",
     "text": [
      "28\n36\n"
     ],
     "output_type": "stream"
    }
   ],
   "source": [
    "# lambda:使用lambda定义小函数，使其更加简洁\n",
    "print(functools.reduce(lambda x, y: x + y, [1,2,3,4,5,6,7]))\n",
    "print(functools.reduce(lambda x, y: x + y, [1,2,3,4,5,6,7], 8))"
   ],
   "metadata": {
    "collapsed": false,
    "pycharm": {
     "name": "#%%\n",
     "is_executing": false
    }
   }
  },
  {
   "cell_type": "code",
   "execution_count": 12,
   "outputs": [
    {
     "name": "stdout",
     "text": [
      "<filter object at 0x000001433CF1AE10>\n[0, 2, 4, 6, 8, 10, 12, 14, 16, 18]\n"
     ],
     "output_type": "stream"
    }
   ],
   "source": [
    "# filter(function, iterable)：对iterable中的每个元素都调用\n",
    "# function进行判断，返回满足条件的元素列表\n",
    "print(filter(lambda a: a % 2==0, range(20)))\n",
    "print(list(filter(lambda a: a % 2==0, range(20))))"
   ],
   "metadata": {
    "collapsed": false,
    "pycharm": {
     "name": "#%%\n",
     "is_executing": false
    }
   }
  },
  {
   "cell_type": "code",
   "execution_count": null,
   "outputs": [],
   "source": [
    "\n"
   ],
   "metadata": {
    "collapsed": false,
    "pycharm": {
     "name": "#%%\n"
    }
   }
  }
 ],
 "metadata": {
  "language_info": {
   "codemirror_mode": {
    "name": "ipython",
    "version": 2
   },
   "file_extension": ".py",
   "mimetype": "text/x-python",
   "name": "python",
   "nbconvert_exporter": "python",
   "pygments_lexer": "ipython2",
   "version": "2.7.6"
  },
  "kernelspec": {
   "name": "python3",
   "language": "python",
   "display_name": "Python 3"
  },
  "pycharm": {
   "stem_cell": {
    "cell_type": "raw",
    "source": [],
    "metadata": {
     "collapsed": false
    }
   }
  }
 },
 "nbformat": 4,
 "nbformat_minor": 0
}