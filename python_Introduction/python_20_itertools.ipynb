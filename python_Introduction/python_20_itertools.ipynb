{
 "cells": [
  {
   "cell_type": "code",
   "execution_count": 1,
   "metadata": {
    "collapsed": true,
    "pycharm": {
     "is_executing": false
    }
   },
   "outputs": [],
   "source": [
    "# itertools模块：常用于处理迭代对象函数\n",
    "# chain、groupby"
   ]
  },
  {
   "cell_type": "code",
   "execution_count": 2,
   "outputs": [
    {
     "name": "stdout",
     "text": [
      "1 2 3 4 5 6 7 8 "
     ],
     "output_type": "stream"
    }
   ],
   "source": [
    "# itertools.chain(*iterables)\n",
    "# 把一组迭代对象串联起来，形成一个更大的迭代器\n",
    "import itertools\n",
    "\n",
    "for c in itertools.chain([1,2,3,4], [5,6,7,8]):\n",
    "    print(c, end=\" \")"
   ],
   "metadata": {
    "collapsed": false,
    "pycharm": {
     "name": "#%%\n",
     "is_executing": false
    }
   }
  },
  {
   "cell_type": "code",
   "execution_count": 4,
   "outputs": [
    {
     "name": "stdout",
     "text": [
      "1 [1, 1]\n2 [2, 2, 2]\n3 [3, 3, 3, 3]\n4 [4, 4]\n1 [1, 1]\n"
     ],
     "output_type": "stream"
    }
   ],
   "source": [
    "# itertools.groupby(iterable, key=None)\n",
    "# 把一组迭代器中相邻的重复元素(key)挑出来放在一起，每一个都是一个可迭代数据\n",
    "for key, group in itertools.groupby([1,1,2,2,2,3,3,3,3,4,4,1,1]):\n",
    "    print(key, list(group))"
   ],
   "metadata": {
    "collapsed": false,
    "pycharm": {
     "name": "#%%\n",
     "is_executing": false
    }
   }
  },
  {
   "cell_type": "code",
   "execution_count": 7,
   "outputs": [
    {
     "name": "stdout",
     "text": [
      "1b [('1b', 'Liu', 93), ('1b', 'Li', 94), ('1b', 'Hua', 95)]\n2b [('2b', 'Guo', 94), ('2b', 'San', 80), ('2b', 'Xi', 84), ('2b', 'Mi', 91), ('2b', 'Ti', 92)]\n3b [('3b', 'Lx', 99), ('3b', 'Ll', 74)]\n4b [('4b', 'Lp', 80), ('4b', 'Fi', 100), ('4b', 'Gi', 71)]\n1b [('1b', 'Vi', 77), ('1b', 'Bi', 88)]\n"
     ],
     "output_type": "stream"
    }
   ],
   "source": [
    "# set是{}，list是()\n",
    "data = [\n",
    "    (\"1b\", \"Liu\", 93),\n",
    "    (\"1b\", \"Li\", 94),\n",
    "    (\"1b\", \"Hua\", 95),\n",
    "    (\"2b\", \"Guo\", 94),\n",
    "    (\"2b\", \"San\", 80),\n",
    "    (\"2b\", \"Xi\", 84),\n",
    "    (\"2b\", \"Mi\", 91),\n",
    "    (\"2b\", \"Ti\", 92),\n",
    "    (\"3b\", \"Lx\", 99),\n",
    "    (\"3b\", \"Ll\", 74),\n",
    "    (\"4b\", \"Lp\", 80),\n",
    "    (\"4b\", \"Fi\", 100),\n",
    "    (\"4b\", \"Gi\", 71),\n",
    "    (\"1b\", \"Vi\", 77),\n",
    "    (\"1b\", \"Bi\", 88),\n",
    "]\n",
    "for key, group in itertools.groupby(data, key=lambda x: x[0]):\n",
    "    print(key, list(group))"
   ],
   "metadata": {
    "collapsed": false,
    "pycharm": {
     "name": "#%%\n",
     "is_executing": false
    }
   }
  },
  {
   "cell_type": "code",
   "execution_count": null,
   "outputs": [],
   "source": [
    "\n"
   ],
   "metadata": {
    "collapsed": false,
    "pycharm": {
     "name": "#%%\n"
    }
   }
  }
 ],
 "metadata": {
  "language_info": {
   "codemirror_mode": {
    "name": "ipython",
    "version": 2
   },
   "file_extension": ".py",
   "mimetype": "text/x-python",
   "name": "python",
   "nbconvert_exporter": "python",
   "pygments_lexer": "ipython2",
   "version": "2.7.6"
  },
  "kernelspec": {
   "name": "python3",
   "language": "python",
   "display_name": "Python 3"
  },
  "pycharm": {
   "stem_cell": {
    "cell_type": "raw",
    "source": [],
    "metadata": {
     "collapsed": false
    }
   }
  }
 },
 "nbformat": 4,
 "nbformat_minor": 0
}